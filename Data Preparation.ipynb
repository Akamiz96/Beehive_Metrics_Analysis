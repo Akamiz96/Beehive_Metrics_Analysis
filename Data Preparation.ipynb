{
 "cells": [
  {
   "cell_type": "markdown",
   "metadata": {},
   "source": [
    "# Data Preparation"
   ]
  },
  {
   "cell_type": "code",
   "execution_count": 9,
   "metadata": {},
   "outputs": [],
   "source": [
    "# Pandas for data loading and processing\n",
    "import pandas as pd\n",
    "#visualization libraries\n",
    "import matplotlib.pyplot as plt\n",
    "import seaborn as sns\n",
    "#Numpy for diverse math functions\n",
    "import numpy as np\n",
    "#Data preparation\n",
    "from sklearn.preprocessing import MinMaxScaler\n",
    "from sklearn.impute import KNNImputer\n",
    "# Warnings remove\n",
    "import warnings\n",
    "warnings.simplefilter(action='ignore')\n"
   ]
  },
  {
   "cell_type": "code",
   "execution_count": 15,
   "metadata": {},
   "outputs": [],
   "source": [
    "# Reading data from schwartau\n",
    "schwartau_daily = pd.read_csv('data/summary/schwartau_daily.csv')\n",
    "schwartau_hourly = pd.read_csv('data/summary/schwartau_hourly.csv')\n",
    "wurzburg_daily = pd.read_csv('data/summary/wurzburg_daily.csv')\n",
    "wurzburg_hourly = pd.read_csv('data/summary/wurzburg_hourly.csv')"
   ]
  },
  {
   "cell_type": "markdown",
   "metadata": {},
   "source": [
    "### Preparition of daily data "
   ]
  },
  {
   "cell_type": "code",
   "execution_count": 78,
   "metadata": {},
   "outputs": [
    {
     "data": {
      "text/html": [
       "<div>\n",
       "<style scoped>\n",
       "    .dataframe tbody tr th:only-of-type {\n",
       "        vertical-align: middle;\n",
       "    }\n",
       "\n",
       "    .dataframe tbody tr th {\n",
       "        vertical-align: top;\n",
       "    }\n",
       "\n",
       "    .dataframe thead th {\n",
       "        text-align: right;\n",
       "    }\n",
       "</style>\n",
       "<table border=\"1\" class=\"dataframe\">\n",
       "  <thead>\n",
       "    <tr style=\"text-align: right;\">\n",
       "      <th></th>\n",
       "      <th>Null values</th>\n",
       "    </tr>\n",
       "  </thead>\n",
       "  <tbody>\n",
       "    <tr>\n",
       "      <th>timestamp</th>\n",
       "      <td>0</td>\n",
       "    </tr>\n",
       "    <tr>\n",
       "      <th>flow</th>\n",
       "      <td>0</td>\n",
       "    </tr>\n",
       "    <tr>\n",
       "      <th>humidity</th>\n",
       "      <td>5</td>\n",
       "    </tr>\n",
       "    <tr>\n",
       "      <th>temperature</th>\n",
       "      <td>5</td>\n",
       "    </tr>\n",
       "    <tr>\n",
       "      <th>weight</th>\n",
       "      <td>5</td>\n",
       "    </tr>\n",
       "  </tbody>\n",
       "</table>\n",
       "</div>"
      ],
      "text/plain": [
       "             Null values\n",
       "timestamp              0\n",
       "flow                   0\n",
       "humidity               5\n",
       "temperature            5\n",
       "weight                 5"
      ]
     },
     "execution_count": 78,
     "metadata": {},
     "output_type": "execute_result"
    }
   ],
   "source": [
    "#find the null values in each column\n",
    "schwartau_daily.isnull().sum().to_frame().rename(columns={0:'Null values'})"
   ]
  },
  {
   "cell_type": "code",
   "execution_count": 79,
   "metadata": {},
   "outputs": [],
   "source": [
    "schwartau_daily_filtered=schwartau_daily.dropna()"
   ]
  },
  {
   "cell_type": "code",
   "execution_count": 80,
   "metadata": {},
   "outputs": [
    {
     "data": {
      "text/html": [
       "<style  type=\"text/css\" >\n",
       "#T_efb2c43c_c256_11eb_bcad_38baf883c5b5row0_col0,#T_efb2c43c_c256_11eb_bcad_38baf883c5b5row0_col1,#T_efb2c43c_c256_11eb_bcad_38baf883c5b5row0_col2,#T_efb2c43c_c256_11eb_bcad_38baf883c5b5row0_col3,#T_efb2c43c_c256_11eb_bcad_38baf883c5b5row1_col1,#T_efb2c43c_c256_11eb_bcad_38baf883c5b5row1_col2,#T_efb2c43c_c256_11eb_bcad_38baf883c5b5row2_col1,#T_efb2c43c_c256_11eb_bcad_38baf883c5b5row2_col2,#T_efb2c43c_c256_11eb_bcad_38baf883c5b5row3_col0,#T_efb2c43c_c256_11eb_bcad_38baf883c5b5row4_col0,#T_efb2c43c_c256_11eb_bcad_38baf883c5b5row4_col1,#T_efb2c43c_c256_11eb_bcad_38baf883c5b5row4_col2,#T_efb2c43c_c256_11eb_bcad_38baf883c5b5row5_col0,#T_efb2c43c_c256_11eb_bcad_38baf883c5b5row5_col1,#T_efb2c43c_c256_11eb_bcad_38baf883c5b5row5_col2,#T_efb2c43c_c256_11eb_bcad_38baf883c5b5row6_col1,#T_efb2c43c_c256_11eb_bcad_38baf883c5b5row6_col2,#T_efb2c43c_c256_11eb_bcad_38baf883c5b5row7_col1,#T_efb2c43c_c256_11eb_bcad_38baf883c5b5row7_col2{\n",
       "            background-color:  #ebf3eb;\n",
       "            color:  #000000;\n",
       "        }#T_efb2c43c_c256_11eb_bcad_38baf883c5b5row1_col0{\n",
       "            background-color:  #d8ead8;\n",
       "            color:  #000000;\n",
       "        }#T_efb2c43c_c256_11eb_bcad_38baf883c5b5row1_col3,#T_efb2c43c_c256_11eb_bcad_38baf883c5b5row2_col3,#T_efb2c43c_c256_11eb_bcad_38baf883c5b5row3_col2,#T_efb2c43c_c256_11eb_bcad_38baf883c5b5row4_col3,#T_efb2c43c_c256_11eb_bcad_38baf883c5b5row5_col3,#T_efb2c43c_c256_11eb_bcad_38baf883c5b5row6_col3,#T_efb2c43c_c256_11eb_bcad_38baf883c5b5row7_col0{\n",
       "            background-color:  #008000;\n",
       "            color:  #f1f1f1;\n",
       "        }#T_efb2c43c_c256_11eb_bcad_38baf883c5b5row2_col0{\n",
       "            background-color:  #319831;\n",
       "            color:  #000000;\n",
       "        }#T_efb2c43c_c256_11eb_bcad_38baf883c5b5row3_col1{\n",
       "            background-color:  #038103;\n",
       "            color:  #f1f1f1;\n",
       "        }#T_efb2c43c_c256_11eb_bcad_38baf883c5b5row3_col3{\n",
       "            background-color:  #058205;\n",
       "            color:  #f1f1f1;\n",
       "        }#T_efb2c43c_c256_11eb_bcad_38baf883c5b5row6_col0{\n",
       "            background-color:  #e9f2e9;\n",
       "            color:  #000000;\n",
       "        }#T_efb2c43c_c256_11eb_bcad_38baf883c5b5row7_col3{\n",
       "            background-color:  #1d8e1d;\n",
       "            color:  #000000;\n",
       "        }</style><table id=\"T_efb2c43c_c256_11eb_bcad_38baf883c5b5\" ><thead>    <tr>        <th class=\"blank level0\" ></th>        <th class=\"col_heading level0 col0\" >flow</th>        <th class=\"col_heading level0 col1\" >humidity</th>        <th class=\"col_heading level0 col2\" >temperature</th>        <th class=\"col_heading level0 col3\" >weight</th>    </tr></thead><tbody>\n",
       "                <tr>\n",
       "                        <th id=\"T_efb2c43c_c256_11eb_bcad_38baf883c5b5level0_row0\" class=\"row_heading level0 row0\" >count</th>\n",
       "                        <td id=\"T_efb2c43c_c256_11eb_bcad_38baf883c5b5row0_col0\" class=\"data row0 col0\" >876.000000</td>\n",
       "                        <td id=\"T_efb2c43c_c256_11eb_bcad_38baf883c5b5row0_col1\" class=\"data row0 col1\" >876.000000</td>\n",
       "                        <td id=\"T_efb2c43c_c256_11eb_bcad_38baf883c5b5row0_col2\" class=\"data row0 col2\" >876.000000</td>\n",
       "                        <td id=\"T_efb2c43c_c256_11eb_bcad_38baf883c5b5row0_col3\" class=\"data row0 col3\" >876.000000</td>\n",
       "            </tr>\n",
       "            <tr>\n",
       "                        <th id=\"T_efb2c43c_c256_11eb_bcad_38baf883c5b5level0_row1\" class=\"row_heading level0 row1\" >mean</th>\n",
       "                        <td id=\"T_efb2c43c_c256_11eb_bcad_38baf883c5b5row1_col0\" class=\"data row1 col0\" >4662.026256</td>\n",
       "                        <td id=\"T_efb2c43c_c256_11eb_bcad_38baf883c5b5row1_col1\" class=\"data row1 col1\" >83.971694</td>\n",
       "                        <td id=\"T_efb2c43c_c256_11eb_bcad_38baf883c5b5row1_col2\" class=\"data row1 col2\" >22.626615</td>\n",
       "                        <td id=\"T_efb2c43c_c256_11eb_bcad_38baf883c5b5row1_col3\" class=\"data row1 col3\" >56839.330086</td>\n",
       "            </tr>\n",
       "            <tr>\n",
       "                        <th id=\"T_efb2c43c_c256_11eb_bcad_38baf883c5b5level0_row2\" class=\"row_heading level0 row2\" >std</th>\n",
       "                        <td id=\"T_efb2c43c_c256_11eb_bcad_38baf883c5b5row2_col0\" class=\"data row2 col0\" >13336.712644</td>\n",
       "                        <td id=\"T_efb2c43c_c256_11eb_bcad_38baf883c5b5row2_col1\" class=\"data row2 col1\" >25.696414</td>\n",
       "                        <td id=\"T_efb2c43c_c256_11eb_bcad_38baf883c5b5row2_col2\" class=\"data row2 col2\" >11.636127</td>\n",
       "                        <td id=\"T_efb2c43c_c256_11eb_bcad_38baf883c5b5row2_col3\" class=\"data row2 col3\" >16884.585391</td>\n",
       "            </tr>\n",
       "            <tr>\n",
       "                        <th id=\"T_efb2c43c_c256_11eb_bcad_38baf883c5b5level0_row3\" class=\"row_heading level0 row3\" >min</th>\n",
       "                        <td id=\"T_efb2c43c_c256_11eb_bcad_38baf883c5b5row3_col0\" class=\"data row3 col0\" >-7682.000000</td>\n",
       "                        <td id=\"T_efb2c43c_c256_11eb_bcad_38baf883c5b5row3_col1\" class=\"data row3 col1\" >-100.000000</td>\n",
       "                        <td id=\"T_efb2c43c_c256_11eb_bcad_38baf883c5b5row3_col2\" class=\"data row3 col2\" >-5.454276</td>\n",
       "                        <td id=\"T_efb2c43c_c256_11eb_bcad_38baf883c5b5row3_col3\" class=\"data row3 col3\" >-169.769700</td>\n",
       "            </tr>\n",
       "            <tr>\n",
       "                        <th id=\"T_efb2c43c_c256_11eb_bcad_38baf883c5b5level0_row4\" class=\"row_heading level0 row4\" >25%</th>\n",
       "                        <td id=\"T_efb2c43c_c256_11eb_bcad_38baf883c5b5row4_col0\" class=\"data row4 col0\" >-69.000000</td>\n",
       "                        <td id=\"T_efb2c43c_c256_11eb_bcad_38baf883c5b5row4_col1\" class=\"data row4 col1\" >78.276604</td>\n",
       "                        <td id=\"T_efb2c43c_c256_11eb_bcad_38baf883c5b5row4_col2\" class=\"data row4 col2\" >12.448929</td>\n",
       "                        <td id=\"T_efb2c43c_c256_11eb_bcad_38baf883c5b5row4_col3\" class=\"data row4 col3\" >49771.869774</td>\n",
       "            </tr>\n",
       "            <tr>\n",
       "                        <th id=\"T_efb2c43c_c256_11eb_bcad_38baf883c5b5level0_row5\" class=\"row_heading level0 row5\" >50%</th>\n",
       "                        <td id=\"T_efb2c43c_c256_11eb_bcad_38baf883c5b5row5_col0\" class=\"data row5 col0\" >-5.000000</td>\n",
       "                        <td id=\"T_efb2c43c_c256_11eb_bcad_38baf883c5b5row5_col1\" class=\"data row5 col1\" >90.821111</td>\n",
       "                        <td id=\"T_efb2c43c_c256_11eb_bcad_38baf883c5b5row5_col2\" class=\"data row5 col2\" >24.397715</td>\n",
       "                        <td id=\"T_efb2c43c_c256_11eb_bcad_38baf883c5b5row5_col3\" class=\"data row5 col3\" >58061.394757</td>\n",
       "            </tr>\n",
       "            <tr>\n",
       "                        <th id=\"T_efb2c43c_c256_11eb_bcad_38baf883c5b5level0_row6\" class=\"row_heading level0 row6\" >75%</th>\n",
       "                        <td id=\"T_efb2c43c_c256_11eb_bcad_38baf883c5b5row6_col0\" class=\"data row6 col0\" >651.500000</td>\n",
       "                        <td id=\"T_efb2c43c_c256_11eb_bcad_38baf883c5b5row6_col1\" class=\"data row6 col1\" >96.400521</td>\n",
       "                        <td id=\"T_efb2c43c_c256_11eb_bcad_38baf883c5b5row6_col2\" class=\"data row6 col2\" >34.193187</td>\n",
       "                        <td id=\"T_efb2c43c_c256_11eb_bcad_38baf883c5b5row6_col3\" class=\"data row6 col3\" >67307.663472</td>\n",
       "            </tr>\n",
       "            <tr>\n",
       "                        <th id=\"T_efb2c43c_c256_11eb_bcad_38baf883c5b5level0_row7\" class=\"row_heading level0 row7\" >max</th>\n",
       "                        <td id=\"T_efb2c43c_c256_11eb_bcad_38baf883c5b5row7_col0\" class=\"data row7 col0\" >103985.000000</td>\n",
       "                        <td id=\"T_efb2c43c_c256_11eb_bcad_38baf883c5b5row7_col1\" class=\"data row7 col1\" >100.000000</td>\n",
       "                        <td id=\"T_efb2c43c_c256_11eb_bcad_38baf883c5b5row7_col2\" class=\"data row7 col2\" >35.373833</td>\n",
       "                        <td id=\"T_efb2c43c_c256_11eb_bcad_38baf883c5b5row7_col3\" class=\"data row7 col3\" >91227.268542</td>\n",
       "            </tr>\n",
       "    </tbody></table>"
      ],
      "text/plain": [
       "<pandas.io.formats.style.Styler at 0x26ddc4907c0>"
      ]
     },
     "execution_count": 80,
     "metadata": {},
     "output_type": "execute_result"
    }
   ],
   "source": [
    "#describe our data\n",
    "schwartau_daily_filtered[schwartau_daily_filtered.select_dtypes(exclude='object').columns].describe().\\\n",
    "style.background_gradient(axis=1,cmap=sns.light_palette('green', as_cmap=True))"
   ]
  },
  {
   "cell_type": "code",
   "execution_count": 81,
   "metadata": {},
   "outputs": [
    {
     "data": {
      "text/html": [
       "<div>\n",
       "<style scoped>\n",
       "    .dataframe tbody tr th:only-of-type {\n",
       "        vertical-align: middle;\n",
       "    }\n",
       "\n",
       "    .dataframe tbody tr th {\n",
       "        vertical-align: top;\n",
       "    }\n",
       "\n",
       "    .dataframe thead th {\n",
       "        text-align: right;\n",
       "    }\n",
       "</style>\n",
       "<table border=\"1\" class=\"dataframe\">\n",
       "  <thead>\n",
       "    <tr style=\"text-align: right;\">\n",
       "      <th></th>\n",
       "      <th>Null values</th>\n",
       "    </tr>\n",
       "  </thead>\n",
       "  <tbody>\n",
       "    <tr>\n",
       "      <th>timestamp</th>\n",
       "      <td>0</td>\n",
       "    </tr>\n",
       "    <tr>\n",
       "      <th>flow</th>\n",
       "      <td>0</td>\n",
       "    </tr>\n",
       "    <tr>\n",
       "      <th>humidity</th>\n",
       "      <td>148</td>\n",
       "    </tr>\n",
       "    <tr>\n",
       "      <th>temperature</th>\n",
       "      <td>148</td>\n",
       "    </tr>\n",
       "    <tr>\n",
       "      <th>weight</th>\n",
       "      <td>148</td>\n",
       "    </tr>\n",
       "  </tbody>\n",
       "</table>\n",
       "</div>"
      ],
      "text/plain": [
       "             Null values\n",
       "timestamp              0\n",
       "flow                   0\n",
       "humidity             148\n",
       "temperature          148\n",
       "weight               148"
      ]
     },
     "execution_count": 81,
     "metadata": {},
     "output_type": "execute_result"
    }
   ],
   "source": [
    "#find the null values in each column\n",
    "wurzburg_daily.isnull().sum().to_frame().rename(columns={0:'Null values'})"
   ]
  },
  {
   "cell_type": "code",
   "execution_count": 82,
   "metadata": {},
   "outputs": [],
   "source": [
    "wurzburg_daily_filtered=wurzburg_daily.dropna()"
   ]
  },
  {
   "cell_type": "code",
   "execution_count": 83,
   "metadata": {},
   "outputs": [
    {
     "data": {
      "text/html": [
       "<style  type=\"text/css\" >\n",
       "#T_efe92784_c256_11eb_b1d9_38baf883c5b5row0_col0,#T_efe92784_c256_11eb_b1d9_38baf883c5b5row0_col1,#T_efe92784_c256_11eb_b1d9_38baf883c5b5row0_col2,#T_efe92784_c256_11eb_b1d9_38baf883c5b5row0_col3,#T_efe92784_c256_11eb_b1d9_38baf883c5b5row1_col0,#T_efe92784_c256_11eb_b1d9_38baf883c5b5row2_col1,#T_efe92784_c256_11eb_b1d9_38baf883c5b5row2_col2,#T_efe92784_c256_11eb_b1d9_38baf883c5b5row2_col3,#T_efe92784_c256_11eb_b1d9_38baf883c5b5row3_col0,#T_efe92784_c256_11eb_b1d9_38baf883c5b5row4_col0,#T_efe92784_c256_11eb_b1d9_38baf883c5b5row5_col0,#T_efe92784_c256_11eb_b1d9_38baf883c5b5row6_col0,#T_efe92784_c256_11eb_b1d9_38baf883c5b5row7_col2{\n",
       "            background-color:  #ebf3eb;\n",
       "            color:  #000000;\n",
       "        }#T_efe92784_c256_11eb_b1d9_38baf883c5b5row1_col1,#T_efe92784_c256_11eb_b1d9_38baf883c5b5row2_col0,#T_efe92784_c256_11eb_b1d9_38baf883c5b5row3_col1,#T_efe92784_c256_11eb_b1d9_38baf883c5b5row3_col2,#T_efe92784_c256_11eb_b1d9_38baf883c5b5row3_col3,#T_efe92784_c256_11eb_b1d9_38baf883c5b5row4_col1,#T_efe92784_c256_11eb_b1d9_38baf883c5b5row5_col1,#T_efe92784_c256_11eb_b1d9_38baf883c5b5row6_col1,#T_efe92784_c256_11eb_b1d9_38baf883c5b5row7_col0{\n",
       "            background-color:  #008000;\n",
       "            color:  #f1f1f1;\n",
       "        }#T_efe92784_c256_11eb_b1d9_38baf883c5b5row1_col2,#T_efe92784_c256_11eb_b1d9_38baf883c5b5row4_col2{\n",
       "            background-color:  #088408;\n",
       "            color:  #f1f1f1;\n",
       "        }#T_efe92784_c256_11eb_b1d9_38baf883c5b5row1_col3{\n",
       "            background-color:  #038103;\n",
       "            color:  #f1f1f1;\n",
       "        }#T_efe92784_c256_11eb_b1d9_38baf883c5b5row4_col3{\n",
       "            background-color:  #028102;\n",
       "            color:  #f1f1f1;\n",
       "        }#T_efe92784_c256_11eb_b1d9_38baf883c5b5row5_col2{\n",
       "            background-color:  #65b265;\n",
       "            color:  #000000;\n",
       "        }#T_efe92784_c256_11eb_b1d9_38baf883c5b5row5_col3{\n",
       "            background-color:  #289428;\n",
       "            color:  #000000;\n",
       "        }#T_efe92784_c256_11eb_b1d9_38baf883c5b5row6_col2{\n",
       "            background-color:  #96c996;\n",
       "            color:  #000000;\n",
       "        }#T_efe92784_c256_11eb_b1d9_38baf883c5b5row6_col3{\n",
       "            background-color:  #47a347;\n",
       "            color:  #000000;\n",
       "        }#T_efe92784_c256_11eb_b1d9_38baf883c5b5row7_col1{\n",
       "            background-color:  #e7f1e7;\n",
       "            color:  #000000;\n",
       "        }#T_efe92784_c256_11eb_b1d9_38baf883c5b5row7_col3{\n",
       "            background-color:  #e9f2e9;\n",
       "            color:  #000000;\n",
       "        }</style><table id=\"T_efe92784_c256_11eb_b1d9_38baf883c5b5\" ><thead>    <tr>        <th class=\"blank level0\" ></th>        <th class=\"col_heading level0 col0\" >flow</th>        <th class=\"col_heading level0 col1\" >humidity</th>        <th class=\"col_heading level0 col2\" >temperature</th>        <th class=\"col_heading level0 col3\" >weight</th>    </tr></thead><tbody>\n",
       "                <tr>\n",
       "                        <th id=\"T_efe92784_c256_11eb_b1d9_38baf883c5b5level0_row0\" class=\"row_heading level0 row0\" >count</th>\n",
       "                        <td id=\"T_efe92784_c256_11eb_b1d9_38baf883c5b5row0_col0\" class=\"data row0 col0\" >722.000000</td>\n",
       "                        <td id=\"T_efe92784_c256_11eb_b1d9_38baf883c5b5row0_col1\" class=\"data row0 col1\" >722.000000</td>\n",
       "                        <td id=\"T_efe92784_c256_11eb_b1d9_38baf883c5b5row0_col2\" class=\"data row0 col2\" >722.000000</td>\n",
       "                        <td id=\"T_efe92784_c256_11eb_b1d9_38baf883c5b5row0_col3\" class=\"data row0 col3\" >722.000000</td>\n",
       "            </tr>\n",
       "            <tr>\n",
       "                        <th id=\"T_efe92784_c256_11eb_b1d9_38baf883c5b5level0_row1\" class=\"row_heading level0 row1\" >mean</th>\n",
       "                        <td id=\"T_efe92784_c256_11eb_b1d9_38baf883c5b5row1_col0\" class=\"data row1 col0\" >-1603.552632</td>\n",
       "                        <td id=\"T_efe92784_c256_11eb_b1d9_38baf883c5b5row1_col1\" class=\"data row1 col1\" >76.103329</td>\n",
       "                        <td id=\"T_efe92784_c256_11eb_b1d9_38baf883c5b5row1_col2\" class=\"data row1 col2\" >16.519482</td>\n",
       "                        <td id=\"T_efe92784_c256_11eb_b1d9_38baf883c5b5row1_col3\" class=\"data row1 col3\" >53.606062</td>\n",
       "            </tr>\n",
       "            <tr>\n",
       "                        <th id=\"T_efe92784_c256_11eb_b1d9_38baf883c5b5level0_row2\" class=\"row_heading level0 row2\" >std</th>\n",
       "                        <td id=\"T_efe92784_c256_11eb_b1d9_38baf883c5b5row2_col0\" class=\"data row2 col0\" >3163.076816</td>\n",
       "                        <td id=\"T_efe92784_c256_11eb_b1d9_38baf883c5b5row2_col1\" class=\"data row2 col1\" >12.248505</td>\n",
       "                        <td id=\"T_efe92784_c256_11eb_b1d9_38baf883c5b5row2_col2\" class=\"data row2 col2\" >8.792786</td>\n",
       "                        <td id=\"T_efe92784_c256_11eb_b1d9_38baf883c5b5row2_col3\" class=\"data row2 col3\" >8.911415</td>\n",
       "            </tr>\n",
       "            <tr>\n",
       "                        <th id=\"T_efe92784_c256_11eb_b1d9_38baf883c5b5level0_row3\" class=\"row_heading level0 row3\" >min</th>\n",
       "                        <td id=\"T_efe92784_c256_11eb_b1d9_38baf883c5b5row3_col0\" class=\"data row3 col0\" >-17273.000000</td>\n",
       "                        <td id=\"T_efe92784_c256_11eb_b1d9_38baf883c5b5row3_col1\" class=\"data row3 col1\" >43.587847</td>\n",
       "                        <td id=\"T_efe92784_c256_11eb_b1d9_38baf883c5b5row3_col2\" class=\"data row3 col2\" >-2.648782</td>\n",
       "                        <td id=\"T_efe92784_c256_11eb_b1d9_38baf883c5b5row3_col3\" class=\"data row3 col3\" >-0.121151</td>\n",
       "            </tr>\n",
       "            <tr>\n",
       "                        <th id=\"T_efe92784_c256_11eb_b1d9_38baf883c5b5level0_row4\" class=\"row_heading level0 row4\" >25%</th>\n",
       "                        <td id=\"T_efe92784_c256_11eb_b1d9_38baf883c5b5row4_col0\" class=\"data row4 col0\" >-1600.250000</td>\n",
       "                        <td id=\"T_efe92784_c256_11eb_b1d9_38baf883c5b5row4_col1\" class=\"data row4 col1\" >69.809720</td>\n",
       "                        <td id=\"T_efe92784_c256_11eb_b1d9_38baf883c5b5row4_col2\" class=\"data row4 col2\" >8.617321</td>\n",
       "                        <td id=\"T_efe92784_c256_11eb_b1d9_38baf883c5b5row4_col3\" class=\"data row4 col3\" >50.759662</td>\n",
       "            </tr>\n",
       "            <tr>\n",
       "                        <th id=\"T_efe92784_c256_11eb_b1d9_38baf883c5b5level0_row5\" class=\"row_heading level0 row5\" >50%</th>\n",
       "                        <td id=\"T_efe92784_c256_11eb_b1d9_38baf883c5b5row5_col0\" class=\"data row5 col0\" >-66.500000</td>\n",
       "                        <td id=\"T_efe92784_c256_11eb_b1d9_38baf883c5b5row5_col1\" class=\"data row5 col1\" >78.964354</td>\n",
       "                        <td id=\"T_efe92784_c256_11eb_b1d9_38baf883c5b5row5_col2\" class=\"data row5 col2\" >16.333688</td>\n",
       "                        <td id=\"T_efe92784_c256_11eb_b1d9_38baf883c5b5row5_col3\" class=\"data row5 col3\" >53.519758</td>\n",
       "            </tr>\n",
       "            <tr>\n",
       "                        <th id=\"T_efe92784_c256_11eb_b1d9_38baf883c5b5level0_row6\" class=\"row_heading level0 row6\" >75%</th>\n",
       "                        <td id=\"T_efe92784_c256_11eb_b1d9_38baf883c5b5row6_col0\" class=\"data row6 col0\" >-10.000000</td>\n",
       "                        <td id=\"T_efe92784_c256_11eb_b1d9_38baf883c5b5row6_col1\" class=\"data row6 col1\" >85.437790</td>\n",
       "                        <td id=\"T_efe92784_c256_11eb_b1d9_38baf883c5b5row6_col2\" class=\"data row6 col2\" >24.514476</td>\n",
       "                        <td id=\"T_efe92784_c256_11eb_b1d9_38baf883c5b5row6_col3\" class=\"data row6 col3\" >56.464722</td>\n",
       "            </tr>\n",
       "            <tr>\n",
       "                        <th id=\"T_efe92784_c256_11eb_b1d9_38baf883c5b5level0_row7\" class=\"row_heading level0 row7\" >max</th>\n",
       "                        <td id=\"T_efe92784_c256_11eb_b1d9_38baf883c5b5row7_col0\" class=\"data row7 col0\" >3456.000000</td>\n",
       "                        <td id=\"T_efe92784_c256_11eb_b1d9_38baf883c5b5row7_col1\" class=\"data row7 col1\" >95.619514</td>\n",
       "                        <td id=\"T_efe92784_c256_11eb_b1d9_38baf883c5b5row7_col2\" class=\"data row7 col2\" >31.908409</td>\n",
       "                        <td id=\"T_efe92784_c256_11eb_b1d9_38baf883c5b5row7_col3\" class=\"data row7 col3\" >68.510927</td>\n",
       "            </tr>\n",
       "    </tbody></table>"
      ],
      "text/plain": [
       "<pandas.io.formats.style.Styler at 0x26ddcc668b0>"
      ]
     },
     "execution_count": 83,
     "metadata": {},
     "output_type": "execute_result"
    }
   ],
   "source": [
    "#describe our data\n",
    "wurzburg_daily_filtered[wurzburg_daily_filtered.select_dtypes(exclude='object').columns].describe().\\\n",
    "style.background_gradient(axis=1,cmap=sns.light_palette('green', as_cmap=True))"
   ]
  },
  {
   "cell_type": "code",
   "execution_count": 84,
   "metadata": {},
   "outputs": [],
   "source": [
    "schwartau_daily_filtered['flow_processed'] = np.where(schwartau_daily_filtered['flow']>=0, 1, 0)\n",
    "wurzburg_daily_filtered['flow_processed'] = np.where(wurzburg_daily_filtered['flow']>=0, 1, 0)"
   ]
  },
  {
   "cell_type": "code",
   "execution_count": 85,
   "metadata": {},
   "outputs": [
    {
     "data": {
      "text/html": [
       "<div>\n",
       "<style scoped>\n",
       "    .dataframe tbody tr th:only-of-type {\n",
       "        vertical-align: middle;\n",
       "    }\n",
       "\n",
       "    .dataframe tbody tr th {\n",
       "        vertical-align: top;\n",
       "    }\n",
       "\n",
       "    .dataframe thead th {\n",
       "        text-align: right;\n",
       "    }\n",
       "</style>\n",
       "<table border=\"1\" class=\"dataframe\">\n",
       "  <thead>\n",
       "    <tr style=\"text-align: right;\">\n",
       "      <th></th>\n",
       "      <th>timestamp</th>\n",
       "      <th>flow</th>\n",
       "      <th>humidity</th>\n",
       "      <th>temperature</th>\n",
       "      <th>weight</th>\n",
       "      <th>flow_processed</th>\n",
       "    </tr>\n",
       "  </thead>\n",
       "  <tbody>\n",
       "    <tr>\n",
       "      <th>0</th>\n",
       "      <td>2017-01-01</td>\n",
       "      <td>-5</td>\n",
       "      <td>98.040310</td>\n",
       "      <td>15.477829</td>\n",
       "      <td>50736.790078</td>\n",
       "      <td>0</td>\n",
       "    </tr>\n",
       "    <tr>\n",
       "      <th>1</th>\n",
       "      <td>2017-01-02</td>\n",
       "      <td>-22</td>\n",
       "      <td>98.806319</td>\n",
       "      <td>13.376389</td>\n",
       "      <td>50657.796250</td>\n",
       "      <td>0</td>\n",
       "    </tr>\n",
       "    <tr>\n",
       "      <th>2</th>\n",
       "      <td>2017-01-03</td>\n",
       "      <td>-30</td>\n",
       "      <td>98.403472</td>\n",
       "      <td>16.181965</td>\n",
       "      <td>50769.785556</td>\n",
       "      <td>0</td>\n",
       "    </tr>\n",
       "    <tr>\n",
       "      <th>3</th>\n",
       "      <td>2017-01-04</td>\n",
       "      <td>-28</td>\n",
       "      <td>97.292292</td>\n",
       "      <td>14.724111</td>\n",
       "      <td>50532.602778</td>\n",
       "      <td>0</td>\n",
       "    </tr>\n",
       "    <tr>\n",
       "      <th>4</th>\n",
       "      <td>2017-01-05</td>\n",
       "      <td>-11</td>\n",
       "      <td>96.583889</td>\n",
       "      <td>9.058442</td>\n",
       "      <td>50109.808194</td>\n",
       "      <td>0</td>\n",
       "    </tr>\n",
       "  </tbody>\n",
       "</table>\n",
       "</div>"
      ],
      "text/plain": [
       "    timestamp  flow   humidity  temperature        weight  flow_processed\n",
       "0  2017-01-01    -5  98.040310    15.477829  50736.790078               0\n",
       "1  2017-01-02   -22  98.806319    13.376389  50657.796250               0\n",
       "2  2017-01-03   -30  98.403472    16.181965  50769.785556               0\n",
       "3  2017-01-04   -28  97.292292    14.724111  50532.602778               0\n",
       "4  2017-01-05   -11  96.583889     9.058442  50109.808194               0"
      ]
     },
     "execution_count": 85,
     "metadata": {},
     "output_type": "execute_result"
    }
   ],
   "source": [
    "schwartau_daily_filtered.head(5)"
   ]
  },
  {
   "cell_type": "code",
   "execution_count": 86,
   "metadata": {},
   "outputs": [
    {
     "data": {
      "text/html": [
       "<div>\n",
       "<style scoped>\n",
       "    .dataframe tbody tr th:only-of-type {\n",
       "        vertical-align: middle;\n",
       "    }\n",
       "\n",
       "    .dataframe tbody tr th {\n",
       "        vertical-align: top;\n",
       "    }\n",
       "\n",
       "    .dataframe thead th {\n",
       "        text-align: right;\n",
       "    }\n",
       "</style>\n",
       "<table border=\"1\" class=\"dataframe\">\n",
       "  <thead>\n",
       "    <tr style=\"text-align: right;\">\n",
       "      <th></th>\n",
       "      <th>timestamp</th>\n",
       "      <th>flow</th>\n",
       "      <th>humidity</th>\n",
       "      <th>temperature</th>\n",
       "      <th>weight</th>\n",
       "      <th>flow_processed</th>\n",
       "    </tr>\n",
       "  </thead>\n",
       "  <tbody>\n",
       "    <tr>\n",
       "      <th>0</th>\n",
       "      <td>2017-01-01</td>\n",
       "      <td>-6</td>\n",
       "      <td>92.058947</td>\n",
       "      <td>-0.082160</td>\n",
       "      <td>52.661690</td>\n",
       "      <td>0</td>\n",
       "    </tr>\n",
       "    <tr>\n",
       "      <th>1</th>\n",
       "      <td>2017-01-02</td>\n",
       "      <td>-9</td>\n",
       "      <td>92.794722</td>\n",
       "      <td>1.825578</td>\n",
       "      <td>52.671111</td>\n",
       "      <td>0</td>\n",
       "    </tr>\n",
       "    <tr>\n",
       "      <th>2</th>\n",
       "      <td>2017-01-03</td>\n",
       "      <td>-7</td>\n",
       "      <td>91.173472</td>\n",
       "      <td>3.082557</td>\n",
       "      <td>52.653767</td>\n",
       "      <td>0</td>\n",
       "    </tr>\n",
       "    <tr>\n",
       "      <th>3</th>\n",
       "      <td>2017-01-04</td>\n",
       "      <td>-21</td>\n",
       "      <td>91.077917</td>\n",
       "      <td>3.750071</td>\n",
       "      <td>52.610835</td>\n",
       "      <td>0</td>\n",
       "    </tr>\n",
       "    <tr>\n",
       "      <th>4</th>\n",
       "      <td>2017-01-05</td>\n",
       "      <td>-12</td>\n",
       "      <td>82.656076</td>\n",
       "      <td>2.259225</td>\n",
       "      <td>52.623591</td>\n",
       "      <td>0</td>\n",
       "    </tr>\n",
       "  </tbody>\n",
       "</table>\n",
       "</div>"
      ],
      "text/plain": [
       "    timestamp  flow   humidity  temperature     weight  flow_processed\n",
       "0  2017-01-01    -6  92.058947    -0.082160  52.661690               0\n",
       "1  2017-01-02    -9  92.794722     1.825578  52.671111               0\n",
       "2  2017-01-03    -7  91.173472     3.082557  52.653767               0\n",
       "3  2017-01-04   -21  91.077917     3.750071  52.610835               0\n",
       "4  2017-01-05   -12  82.656076     2.259225  52.623591               0"
      ]
     },
     "execution_count": 86,
     "metadata": {},
     "output_type": "execute_result"
    }
   ],
   "source": [
    "wurzburg_daily_filtered.head(5)"
   ]
  },
  {
   "cell_type": "code",
   "execution_count": 87,
   "metadata": {},
   "outputs": [
    {
     "data": {
      "image/png": "[encoded data removed]",
      "text/plain": [
       "<Figure size 432x288 with 1 Axes>"
      ]
     },
     "metadata": {
      "needs_background": "light"
     },
     "output_type": "display_data"
    }
   ],
   "source": [
    "sns.countplot(x='flow_processed', data=schwartau_daily_filtered, palette = 'hls')\n",
    "plt.show()"
   ]
  },
  {
   "cell_type": "code",
   "execution_count": 88,
   "metadata": {},
   "outputs": [
    {
     "data": {
      "image/png": "[encoded data removed]",
      "text/plain": [
       "<Figure size 432x288 with 1 Axes>"
      ]
     },
     "metadata": {
      "needs_background": "light"
     },
     "output_type": "display_data"
    }
   ],
   "source": [
    "sns.countplot(x='flow_processed', data=wurzburg_daily_filtered, palette = 'hls')\n",
    "plt.show()"
   ]
  },
  {
   "cell_type": "code",
   "execution_count": 89,
   "metadata": {},
   "outputs": [],
   "source": [
    "schwartau_daily_filtered.drop(['flow'], axis = 'columns', inplace=True)\n",
    "scaler_schwartau = MinMaxScaler()\n",
    "schwartau_daily_filtered[['humidity', 'temperature', 'weight']] = scaler_schwartau.fit_transform(schwartau_daily_filtered[['humidity', 'temperature', 'weight']])\n",
    "\n",
    "\n",
    "wurzburg_daily_filtered.drop(['flow'], axis = 'columns', inplace=True)\n",
    "scaler_wurzburg = MinMaxScaler()\n",
    "wurzburg_daily_filtered[['humidity', 'temperature', 'weight']] = scaler_wurzburg.fit_transform(wurzburg_daily_filtered[['humidity', 'temperature', 'weight']])"
   ]
  },
  {
   "cell_type": "code",
   "execution_count": 91,
   "metadata": {},
   "outputs": [],
   "source": [
    "schwartau_daily_filtered.to_csv('data/summary/schwartau_daily_filtered.csv', index = False, header=True)\n",
    "wurzburg_daily_filtered.to_csv('data/summary/wurzburg_daily_filtered.csv', index = False, header=True)"
   ]
  }
 ],
 "metadata": {
  "kernelspec": {
   "display_name": "Python 3",
   "language": "python",
   "name": "python3"
  },
  "language_info": {
   "codemirror_mode": {
    "name": "ipython",
    "version": 3
   },
   "file_extension": ".py",
   "mimetype": "text/x-python",
   "name": "python",
   "nbconvert_exporter": "python",
   "pygments_lexer": "ipython3",
   "version": "3.8.5"
  }
 },
 "nbformat": 4,
 "nbformat_minor": 4
}
